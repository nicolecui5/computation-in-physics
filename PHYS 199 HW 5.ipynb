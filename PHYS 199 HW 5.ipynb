{
 "cells": [
  {
   "cell_type": "code",
   "execution_count": 1,
   "metadata": {
    "collapsed": true
   },
   "outputs": [],
   "source": [
    "import numpy as np\n",
    "import matplotlib.pyplot as pt\n",
    "import scipy as ci\n",
    "import pandas as pd\n",
    "import seaborn as sns\n",
    "from mpl_toolkits.mplot3d import Axes3D\n",
    "%matplotlib inline"
   ]
  },
  {
   "cell_type": "markdown",
   "metadata": {},
   "source": [
    "<font size=5>Problem 1<font>"
   ]
  },
  {
   "cell_type": "code",
   "execution_count": 6,
   "metadata": {
    "collapsed": false
   },
   "outputs": [],
   "source": [
    "###########################################\n",
    "# dx=v dt , dv=F dt/m\n",
    "# 1) Defining two functions which corresponds to the forces\n",
    "# in x and y direction. \n",
    "# 2) Set the inintial conditions of v,x,t.\n",
    "# Generate a loop:\n",
    "#    for both x and y direction:\n",
    "#         calculating dx\n",
    "#         add dx to initial x  \n",
    "#         calculating another dx'\n",
    "#         add dx' to initial X to get final distance \n",
    "###########################################\n",
    "sns.set(font_scale=1.5)\n",
    "dt=1\n",
    "G=6.674*10**(-11)\n",
    "M=5.972*10**24\n",
    "\n",
    "def Fx(x,y,vx,vy,t): \n",
    "    return -G*M*x/(x**2+y**2)**(3/2)\n",
    "def Fy(x,y,vx,vy,t): \n",
    "    return -G*M*y/(x**2+y**2)**(3/2)\n",
    "\n",
    "t0=0\n",
    "Xx0=2.959*10**7\n",
    "Xv0=0\n",
    "Yx0=0\n",
    "Yv0=3304.55\n",
    "\n",
    "XX=[]\n",
    "XV=[]\n",
    "YX=[]\n",
    "YV=[]\n",
    "T=[]\n",
    "\n",
    "for i in range(0,round(4*10**4/dt)):\n",
    "    \n",
    "    Xdx0=Xv0*dt\n",
    "    Xdv0=Fx(Xx0,Yx0,Xv0,Yv0,t0)*dt\n",
    "    \n",
    "    Ydx0=Yv0*dt\n",
    "    Ydv0=Fy(Xx0,Yx0,Xv0,Yv0,t0)*dt\n",
    "    \n",
    "    ####\n",
    "    Xx0_1=Xx0+Xdx0/2\n",
    "    Xv0_1=Xv0+Xdv0/2\n",
    "    \n",
    "    Yx0_1=Yx0+Ydx0/2\n",
    "    Yv0_1=Yv0+Ydv0/2\n",
    "    \n",
    "    ####\n",
    "    Xdx_i=Xv0_1*dt\n",
    "    Xdv_i=Fx(Xx0_1,Yx0_1,Xv0_1,Yv0_1,t0+dt)*dt\n",
    "    \n",
    "    Ydx_i=Yv0_1*dt\n",
    "    Ydv_i=Fy(Xx0_1,Yx0_1,Xv0_1,Yv0_1,t0+dt)*dt\n",
    "    ####\n",
    "    Xx1=Xx0+Xdx_i   \n",
    "    Xv1=Xv0+Xdv_i\n",
    "    \n",
    "    Yx1=Yx0+Ydx_i   \n",
    "    Yv1=Yv0+Ydv_i\n",
    "    \n",
    "    ####\n",
    "    Xx0=Xx1 \n",
    "    Xv0=Xv1\n",
    "    \n",
    "    Yx0=Yx1 \n",
    "    Yv0=Yv1\n",
    "    t0=t0+dt\n",
    "\n",
    "    XX=np.append(XX,Xx0)\n",
    "    XV=np.append(XV,Xv0)\n",
    "    YX=np.append(YX,Yx0)\n",
    "    YV=np.append(YV,Yv0)\n",
    "    T.append(t0)"
   ]
  },
  {
   "cell_type": "code",
   "execution_count": 7,
   "metadata": {
    "collapsed": false
   },
   "outputs": [
    {
     "name": "stdout",
     "output_type": "stream",
     "text": [
      "Galileo 5: T=39058 Seconds\n",
      "Circular Orbit: 50657.57 Seconds\n"
     ]
    }
   ],
   "source": [
    "## Satellite Orbit (Find t corresponding to maximum x)\n",
    "XX[0]=0\n",
    "for i in range(0,len(XX)):\n",
    "    if XX[i]==np.max(XX):\n",
    "        print('Galileo 5: T='+str(T[i])+' Seconds')\n",
    "        \n",
    "## Perfect Orbit:  (Just use physics)\n",
    "def perfect(r):\n",
    "    return str(np.round(2*np.pi*np.sqrt(r**3/(G*M)),2))\n",
    "print('Circular Orbit: '+str((perfect(2.959*10**7)))+' Seconds')"
   ]
  },
  {
   "cell_type": "markdown",
   "metadata": {},
   "source": [
    "<font size=5>Problem 2<font>"
   ]
  },
  {
   "cell_type": "code",
   "execution_count": 8,
   "metadata": {
    "collapsed": true
   },
   "outputs": [],
   "source": [
    "## Defining functions evaluating dilation factors\n",
    "c=299794458\n",
    "def gamma(vx,vy):\n",
    "    return np.sqrt(1-(vx**2+vy**2)/(c**2))\n",
    "def dila(x,y):\n",
    "    return np.sqrt(1-0.00887/np.sqrt(x**2+y**2))\n",
    "## Initial Conditions and Forces when Looping \n",
    "dt=1.0\n",
    "G=6.674*10**(-11)\n",
    "M=5.972*10**24\n",
    "def Fx(x,y,vx,vy,t): \n",
    "    return -G*M*x/(x**2+y**2)**(3/2)\n",
    "def Fy(x,y,vx,vy,t): \n",
    "    return -G*M*y/(x**2+y**2)**(3/2)"
   ]
  },
  {
   "cell_type": "code",
   "execution_count": 24,
   "metadata": {
    "collapsed": false
   },
   "outputs": [],
   "source": [
    "## Using the same code as before, but \n",
    "## only storing the values of difference between\n",
    "## relativistic and newtonian time and sum up in each loop\n",
    "\n",
    "########## Special Relativity\n",
    "t0=0 ## Relativistic Time Difference\n",
    "period=39058 ## Time of one orbit\n",
    "Xx0=2.959*10**7\n",
    "Xv0=0\n",
    "Yx0=0\n",
    "Yv0=3304.55\n",
    "tmp=[]\n",
    "t=[]\n",
    "x=[]\n",
    "y=[]\n",
    "g=[]\n",
    "for i in range(0,period):\n",
    "    Xdx0=Xv0*dt *gamma(Xv0,Yv0)  ##Current v: X/Yv0\n",
    "    Xdv0=Fx(Xx0,Yx0,Xv0,Yv0,t0)*dt *gamma(Xv0,Yv0)\n",
    "    \n",
    "    Ydx0=Yv0*dt *gamma(Xv0,Yv0)\n",
    "    Ydv0=Fy(Xx0,Yx0,Xv0,Yv0,t0)*dt *gamma(Xv0,Yv0)\n",
    "    ####\n",
    "    Xx0_1=Xx0+Xdx0/2\n",
    "    Xv0_1=Xv0+Xdv0/2\n",
    "    \n",
    "    Yx0_1=Yx0+Ydx0/2\n",
    "    Yv0_1=Yv0+Ydv0/2\n",
    "    ####\n",
    "    Xdx_i=Xv0_1*dt *gamma(Xv0_1,Yv0_1)  # Current v: X/Yv0_1\n",
    "    Xdv_i=Fx(Xx0_1,Yx0_1,Xv0_1,Yv0_1,t0+dt)*dt *gamma(Xv0_1,Yv0_1)\n",
    "    \n",
    "    Ydx_i=Yv0_1*dt *gamma(Xv0_1,Yv0_1)\n",
    "    Ydv_i=Fy(Xx0_1,Yx0_1,Xv0_1,Yv0_1,t0+dt)*dt *gamma(Xv0_1,Yv0_1)\n",
    "\n",
    "    ####\n",
    "    Xx1=Xx0+Xdx_i   \n",
    "    Xv1=Xv0+Xdv_i\n",
    "    \n",
    "    Yx1=Yx0+Ydx_i   \n",
    "    Yv1=Yv0+Ydv_i\n",
    "    ####\n",
    "    Xx0=Xx1 \n",
    "    Xv0=Xv1\n",
    "    \n",
    "    Yx0=Yx1 \n",
    "    Yv0=Yv1\n",
    "    t0=t0+dt*(1-gamma(Xv0,Yv0)) # Summing up Difference due to relativity \n",
    "T1=t0*86400*365/period ### Multiplying number of rotations in one year "
   ]
  },
  {
   "cell_type": "code",
   "execution_count": 18,
   "metadata": {
    "collapsed": false
   },
   "outputs": [],
   "source": [
    "####### General Relativity\n",
    "t0=0\n",
    "Xx0=2.959*10**7\n",
    "Xv0=0\n",
    "Yx0=0\n",
    "Yv0=3304.55\n",
    "for i in range(0,period):\n",
    "    Xdx0=Xv0*dt *dila(Xx0,Yx0)\n",
    "    Xdv0=Fx(Xx0,Yx0,Xv0,Yv0,t0)*dt *dila(Xx0,Yx0)\n",
    "    \n",
    "    Ydx0=Yv0*dt *dila(Xx0,Yx0)\n",
    "    Ydv0=Fy(Xx0,Yx0,Xv0,Yv0,t0)*dt *dila(Xx0,Yx0)\n",
    "    ####\n",
    "    Xx0_1=Xx0+Xdx0/2\n",
    "    Xv0_1=Xv0+Xdv0/2\n",
    "    \n",
    "    Yx0_1=Yx0+Ydx0/2\n",
    "    Yv0_1=Yv0+Ydv0/2\n",
    "    ####\n",
    "    Xdx_i=Xv0_1*dt *dila(Xx0_1,Yx0_1)\n",
    "    Xdv_i=Fx(Xx0_1,Yx0_1,Xv0_1,Yv0_1,t0+dt)*dt *dila(Xx0_1,Yx0_1)\n",
    "    \n",
    "    Ydx_i=Yv0_1*dt *dila(Xx0_1,Yx0_1)\n",
    "    Ydv_i=Fy(Xx0_1,Yx0_1,Xv0_1,Yv0_1,t0+dt)*dt *dila(Xx0_1,Yx0_1)\n",
    "    ####\n",
    "    Xx1=Xx0+Xdx_i   \n",
    "    Xv1=Xv0+Xdv_i\n",
    "    \n",
    "    Yx1=Yx0+Ydx_i   \n",
    "    Yv1=Yv0+Ydv_i\n",
    "    ####\n",
    "    Xx0=Xx1 \n",
    "    Xv0=Xv1\n",
    "    \n",
    "    Yx0=Yx1 \n",
    "    Yv0=Yv1\n",
    "    t0=t0+dt *(1-dila(Xx0,Yx0)) ## General Relativity Correction\n",
    "T2=t0*86400*365/period"
   ]
  },
  {
   "cell_type": "code",
   "execution_count": 19,
   "metadata": {
    "collapsed": false
   },
   "outputs": [],
   "source": [
    "########## Combined Effect\n",
    "t0=0\n",
    "Xx0=2.959*10**7\n",
    "Xv0=0\n",
    "Yx0=0\n",
    "Yv0=3304.55\n",
    "for i in range(0,period):\n",
    "    Xdx0=Xv0*dt *gamma(Xv0,Yv0)*dila(Xx0,Yx0)\n",
    "    Xdv0=Fx(Xx0,Yx0,Xv0,Yv0,t0)*dt *gamma(Xv0,Yv0)*dila(Xx0,Yx0)\n",
    "    \n",
    "    Ydx0=Yv0*dt *gamma(Xv0,Yv0)*dila(Xx0,Yx0)\n",
    "    Ydv0=Fy(Xx0,Yx0,Xv0,Yv0,t0)*dt *gamma(Xv0,Yv0)*dila(Xx0,Yx0)\n",
    "    ####\n",
    "    Xx0_1=Xx0+Xdx0/2\n",
    "    Xv0_1=Xv0+Xdv0/2\n",
    "    \n",
    "    Yx0_1=Yx0+Ydx0/2\n",
    "    Yv0_1=Yv0+Ydv0/2\n",
    "    ####\n",
    "    Xdx_i=Xv0_1*dt *gamma(Xv0_1,Yv0_1)*dila(Xx0_1,Yx0_1)\n",
    "    Xdv_i=Fx(Xx0_1,Yx0_1,Xv0_1,Yv0_1,t0+dt)*dt *gamma(Xv0_1,Yv0_1)*dila(Xx0_1,Yx0_1)\n",
    "    \n",
    "    Ydx_i=Yv0_1*dt *gamma(Xv0_1,Yv0_1)*dila(Xx0_1,Yx0_1)\n",
    "    Ydv_i=Fy(Xx0_1,Yx0_1,Xv0_1,Yv0_1,t0+dt)*dt *gamma(Xv0_1,Yv0_1)*dila(Xx0_1,Yx0_1)\n",
    "    ####\n",
    "    Xx1=Xx0+Xdx_i   \n",
    "    Xv1=Xv0+Xdv_i\n",
    "    \n",
    "    Yx1=Yx0+Ydx_i   \n",
    "    Yv1=Yv0+Ydv_i\n",
    "    ####\n",
    "    Xx0=Xx1 \n",
    "    Xv0=Xv1\n",
    "    \n",
    "    Yx0=Yx1 \n",
    "    Yv0=Yv1\n",
    "    t0=t0+dt *(1-gamma(Xv0,Yv0)*dila(Xx0,Yx0)) ## Combined Dilation Difference\n",
    "T3=t0*86400*365/period"
   ]
  },
  {
   "cell_type": "code",
   "execution_count": 20,
   "metadata": {
    "collapsed": false
   },
   "outputs": [],
   "source": [
    "Gal_sp=T1\n",
    "Gal_gr=T2\n",
    "Gal_combi=T3"
   ]
  },
  {
   "cell_type": "code",
   "execution_count": 21,
   "metadata": {
    "collapsed": false
   },
   "outputs": [],
   "source": [
    "###### Calculating Dilation for Proper Satellite and Ground Obj\n",
    "T0=365*86400\n",
    "def sp(v):\n",
    "    return np.sqrt(1-(v/c)**2)\n",
    "def gr(r):\n",
    "    return np.sqrt(1-0.00887/r)\n",
    "\n",
    "R1=6.371*10**6\n",
    "R2=2.959*10**7\n",
    "v1=2*np.pi*R1/(86400) ## Earth spin velocity\n",
    "v2=np.sqrt(G*M/R2)  ## Calculating Circular Orbital Speed\n",
    "\n",
    "## Equitorial\n",
    "Eq_sp=(T0-T0*sp(v1))\n",
    "Eq_gr=(T0-T0*gr(R1))\n",
    "Eq_combi=(T0-T0*sp(v1)*gr(R1))\n",
    "## Satellite\n",
    "Sat_sp=(T0-T0*sp(v2))\n",
    "Sat_gr=(T0-T0*gr(R2))\n",
    "Sat_combi=(T0-T0*sp(v2)*gr(R2))"
   ]
  },
  {
   "cell_type": "code",
   "execution_count": 23,
   "metadata": {
    "collapsed": false
   },
   "outputs": [
    {
     "data": {
      "text/html": [
       "<div>\n",
       "<table border=\"1\" class=\"dataframe\">\n",
       "  <thead>\n",
       "    <tr style=\"text-align: right;\">\n",
       "      <th></th>\n",
       "      <th>Equatorial</th>\n",
       "      <th>Galileo</th>\n",
       "      <th>Satellite</th>\n",
       "    </tr>\n",
       "  </thead>\n",
       "  <tbody>\n",
       "    <tr>\n",
       "      <th>SR</th>\n",
       "      <td>0.000038</td>\n",
       "      <td>0.002810</td>\n",
       "      <td>0.002363</td>\n",
       "    </tr>\n",
       "    <tr>\n",
       "      <th>GR</th>\n",
       "      <td>0.021953</td>\n",
       "      <td>0.005621</td>\n",
       "      <td>0.004727</td>\n",
       "    </tr>\n",
       "    <tr>\n",
       "      <th>SR+GR</th>\n",
       "      <td>0.021991</td>\n",
       "      <td>0.008432</td>\n",
       "      <td>0.007090</td>\n",
       "    </tr>\n",
       "  </tbody>\n",
       "</table>\n",
       "</div>"
      ],
      "text/plain": [
       "       Equatorial   Galileo  Satellite\n",
       "SR       0.000038  0.002810   0.002363\n",
       "GR       0.021953  0.005621   0.004727\n",
       "SR+GR    0.021991  0.008432   0.007090"
      ]
     },
     "execution_count": 23,
     "metadata": {},
     "output_type": "execute_result"
    }
   ],
   "source": [
    "## Annual Deflect: Approximated to 6 significant digits\n",
    "d = {'Equatorial' : [Eq_sp, Eq_gr, Eq_combi], \\\n",
    "     'Galileo' : [Gal_sp, Gal_gr, Gal_combi],'Satellite': \\\n",
    "     [Sat_sp,Sat_gr,Sat_combi]}\n",
    "pd.DataFrame(d, index=['SR', 'GR', 'SR+GR'])"
   ]
  },
  {
   "cell_type": "markdown",
   "metadata": {
    "collapsed": false
   },
   "source": [
    "<font size=3> Time took: Problem 1: 30 minutes. Problem 2: 2 hours coding and 3 days of debuging. Collaboration: Completed on my own. Reference: Python Pandas Documentation. <font>"
   ]
  }
 ],
 "metadata": {
  "kernelspec": {
   "display_name": "Python 3",
   "language": "python",
   "name": "python3"
  },
  "language_info": {
   "codemirror_mode": {
    "name": "ipython",
    "version": 3
   },
   "file_extension": ".py",
   "mimetype": "text/x-python",
   "name": "python",
   "nbconvert_exporter": "python",
   "pygments_lexer": "ipython3",
   "version": "3.5.1"
  }
 },
 "nbformat": 4,
 "nbformat_minor": 0
}
